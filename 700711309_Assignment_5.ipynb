{
 "cells": [
  {
   "cell_type": "code",
   "execution_count": 131,
   "id": "9cb69110",
   "metadata": {},
   "outputs": [],
   "source": [
    "from sklearn.decomposition import PCA #importing PCA\n",
    "from sklearn.preprocessing import StandardScaler #StandardScaler\n",
    "from sklearn.model_selection import train_test_split #train_test_split importing\n",
    "import pandas as pd #importing pandas\n",
    "from sklearn.metrics import accuracy_score #accuracy_score importing\n",
    "import matplotlib.pyplot as plt #importing matlab\n",
    "import warnings\n",
    "warnings.filterwarnings('ignore') #importing warnings"
   ]
  },
  {
   "cell_type": "code",
   "execution_count": 118,
   "id": "a9580526",
   "metadata": {},
   "outputs": [],
   "source": [
    "#question 1\n",
    "#1.1 Apply PCA on CC dataset\n",
    "cc = pd.read_csv('CC.csv') #reading file using pandas\n",
    "cc.fillna(cc.mean(),axis=0,inplace=True) #filling null valu with means"
   ]
  },
  {
   "cell_type": "code",
   "execution_count": 132,
   "id": "20ada6ba",
   "metadata": {},
   "outputs": [],
   "source": [
    "X = cc.drop(columns=['TENURE','CUST_ID']) #considering x values\n",
    "y = cc['TENURE'] #considering y values"
   ]
  },
  {
   "cell_type": "code",
   "execution_count": 133,
   "id": "734a8dd4",
   "metadata": {},
   "outputs": [
    {
     "data": {
      "text/html": [
       "<div>\n",
       "<style scoped>\n",
       "    .dataframe tbody tr th:only-of-type {\n",
       "        vertical-align: middle;\n",
       "    }\n",
       "\n",
       "    .dataframe tbody tr th {\n",
       "        vertical-align: top;\n",
       "    }\n",
       "\n",
       "    .dataframe thead th {\n",
       "        text-align: right;\n",
       "    }\n",
       "</style>\n",
       "<table border=\"1\" class=\"dataframe\">\n",
       "  <thead>\n",
       "    <tr style=\"text-align: right;\">\n",
       "      <th></th>\n",
       "      <th>principal component 1</th>\n",
       "      <th>principal component 2</th>\n",
       "      <th>TENURE</th>\n",
       "    </tr>\n",
       "  </thead>\n",
       "  <tbody>\n",
       "    <tr>\n",
       "      <th>0</th>\n",
       "      <td>-4326.383979</td>\n",
       "      <td>921.566882</td>\n",
       "      <td>12</td>\n",
       "    </tr>\n",
       "    <tr>\n",
       "      <th>1</th>\n",
       "      <td>4118.916665</td>\n",
       "      <td>-2432.846346</td>\n",
       "      <td>12</td>\n",
       "    </tr>\n",
       "    <tr>\n",
       "      <th>2</th>\n",
       "      <td>1497.907641</td>\n",
       "      <td>-1997.578694</td>\n",
       "      <td>12</td>\n",
       "    </tr>\n",
       "    <tr>\n",
       "      <th>3</th>\n",
       "      <td>1394.548536</td>\n",
       "      <td>-1488.743453</td>\n",
       "      <td>12</td>\n",
       "    </tr>\n",
       "    <tr>\n",
       "      <th>4</th>\n",
       "      <td>-3743.351896</td>\n",
       "      <td>757.342657</td>\n",
       "      <td>12</td>\n",
       "    </tr>\n",
       "  </tbody>\n",
       "</table>\n",
       "</div>"
      ],
      "text/plain": [
       "   principal component 1  principal component 2  TENURE\n",
       "0           -4326.383979             921.566882      12\n",
       "1            4118.916665           -2432.846346      12\n",
       "2            1497.907641           -1997.578694      12\n",
       "3            1394.548536           -1488.743453      12\n",
       "4           -3743.351896             757.342657      12"
      ]
     },
     "execution_count": 133,
     "metadata": {},
     "output_type": "execute_result"
    }
   ],
   "source": [
    "pca2 = PCA(n_components=2) #calculating PCA\n",
    "principalComponents = pca2.fit_transform(X) #Inputing X values\n",
    "principalDf = pd.DataFrame(data = principalComponents, columns = ['principal component 1', 'principal component 2']) #creating\n",
    "                                                                                                 #new df with required columns\n",
    "finalcc = pd.concat([principalDf, cc[['TENURE']]], axis = 1) #concatinating\n",
    "finalcc.head()#display first 5 rows"
   ]
  },
  {
   "cell_type": "code",
   "execution_count": 134,
   "id": "fa76c78c",
   "metadata": {},
   "outputs": [],
   "source": [
    "X_pca = finalcc.drop('TENURE',axis=1) #considering x values after PCA\n",
    "y_pca = finalcc['TENURE'] #considering y values after PCA\n",
    "nclusters = 3 #considering no. of clusters as 3"
   ]
  },
  {
   "cell_type": "code",
   "execution_count": 135,
   "id": "8320c43a",
   "metadata": {},
   "outputs": [
    {
     "name": "stdout",
     "output_type": "stream",
     "text": [
      "0.46765520284747175\n"
     ]
    }
   ],
   "source": [
    "#1.2 Apply k-means algorithm on the PCA result and report your observation if the silhouette score\n",
    "#has improved or not?\n",
    "#calculating silhouette score without applying PCA\n",
    "\n",
    "\n",
    "from sklearn.cluster import KMeans #importing kmeans\n",
    "km = KMeans(n_clusters=nclusters) #considering cluster as 3\n",
    "km.fit(X) #inputting x values\n",
    "y_pred = km.predict(X) #predicting y values\n",
    "from sklearn.metrics import silhouette_score # importing silhoutte_score from sklearn.metrics\n",
    "score = silhouette_score(X, y_pred) # finding the silhouette_score\n",
    "print(score) # printing silhouette_score"
   ]
  },
  {
   "cell_type": "code",
   "execution_count": 117,
   "id": "d80cb37f",
   "metadata": {},
   "outputs": [
    {
     "name": "stdout",
     "output_type": "stream",
     "text": [
      "0.572000315900709\n"
     ]
    }
   ],
   "source": [
    "#calculating silhouette score with applying PCA\n",
    "\n",
    "from sklearn.cluster import KMeans #Importing kmeans\n",
    "km = KMeans(n_clusters=nclusters) #considering cluster as 3\n",
    "km.fit(X_pca) #inputting X_pca values\n",
    "y_pred = km.predict(X_pca) #predicting y values\n",
    "from sklearn.metrics import silhouette_score # importing silhoutte_score from sklearn.metrics\n",
    "score = silhouette_score(X_pca, y_pred) # finding the silhouette_score\n",
    "print(score) # printing silhouette_score"
   ]
  },
  {
   "cell_type": "code",
   "execution_count": 103,
   "id": "86ab8ef5",
   "metadata": {},
   "outputs": [],
   "source": [
    "#the score has improved after applying PCA."
   ]
  },
  {
   "cell_type": "code",
   "execution_count": 136,
   "id": "624a1f23",
   "metadata": {},
   "outputs": [
    {
     "name": "stdout",
     "output_type": "stream",
     "text": [
      "0.45342413741661464\n"
     ]
    }
   ],
   "source": [
    "#1.3 Perform Scaling+PCA+K-Means and report performance.\n",
    "\n",
    "\n",
    "scaler = StandardScaler() # creating a StandardScalar to scale the data\n",
    "scaler.fit(X) # feeding the data to the scalar\n",
    "X_scaled_array = scaler.transform(X) # scaling the data using Standard Scalar function\n",
    "X_scaled = pd.DataFrame(X_scaled_array, columns = X.columns) # creating a new dataframe with scaled data\n",
    "\n",
    "pca2 = PCA(n_components=2) #Calculating pca with 2 componenets\n",
    "principalComponents = pca2.fit_transform(X_scaled) #Inputting x_scaled values\n",
    "principalDf = pd.DataFrame(data = principalComponents, columns = ['principal component 1', 'principal component 2']) #Creating\n",
    "                                                                                                 #new df with required columns\n",
    "finalcc = pd.concat([principalDf, cc[['TENURE']]], axis = 1) #concatenating\n",
    "X_pca = finalcc.drop('TENURE',axis=1) #Considering x values \n",
    "y_pca = finalcc['TENURE'] #Considering Y values\n",
    "\n",
    "km = KMeans(n_clusters=nclusters) # creating the model\n",
    "km.fit(X_pca) # feeding the model with scaled data\n",
    "y_cluster_kmeans = km.predict(X_pca) # predicting the y values with scaled values of x\n",
    "from sklearn.metrics import silhouette_score # importing silhoutte_score from sklearn.metrics\n",
    "score = silhouette_score(X_pca, y_cluster_kmeans) # finding the silhoutte_score\n",
    "print(score) # printing slihoutte_score"
   ]
  },
  {
   "cell_type": "code",
   "execution_count": 137,
   "id": "ec051b75",
   "metadata": {},
   "outputs": [],
   "source": [
    "#question2\n",
    "\n",
    "speech = pd.read_csv('pd_speech_features.csv') #Reading data with pandas"
   ]
  },
  {
   "cell_type": "code",
   "execution_count": 138,
   "id": "e858496e",
   "metadata": {},
   "outputs": [],
   "source": [
    "X = speech.drop(columns = ['class']) #considering x values\n",
    "y = speech['class'] #considering Y values"
   ]
  },
  {
   "cell_type": "code",
   "execution_count": 139,
   "id": "f86fa86d",
   "metadata": {},
   "outputs": [],
   "source": [
    "# 2.1 Perform Scaling\n",
    "\n",
    "scaler = StandardScaler() # creating a StandardScalar to scale the data\n",
    "scaler.fit(X) # feeding the data to the scalar\n",
    "X_scaled_array = scaler.transform(X) # scaling the data using Standard Scalar function\n",
    "X_scaled = pd.DataFrame(X_scaled_array, columns = X.columns) # creating a new dataframe with scaled data"
   ]
  },
  {
   "cell_type": "code",
   "execution_count": 140,
   "id": "0359d933",
   "metadata": {},
   "outputs": [
    {
     "data": {
      "text/html": [
       "<div>\n",
       "<style scoped>\n",
       "    .dataframe tbody tr th:only-of-type {\n",
       "        vertical-align: middle;\n",
       "    }\n",
       "\n",
       "    .dataframe tbody tr th {\n",
       "        vertical-align: top;\n",
       "    }\n",
       "\n",
       "    .dataframe thead th {\n",
       "        text-align: right;\n",
       "    }\n",
       "</style>\n",
       "<table border=\"1\" class=\"dataframe\">\n",
       "  <thead>\n",
       "    <tr style=\"text-align: right;\">\n",
       "      <th></th>\n",
       "      <th>principal component 1</th>\n",
       "      <th>principal component 2</th>\n",
       "      <th>principal component 3</th>\n",
       "      <th>class</th>\n",
       "    </tr>\n",
       "  </thead>\n",
       "  <tbody>\n",
       "    <tr>\n",
       "      <th>0</th>\n",
       "      <td>-10.047372</td>\n",
       "      <td>1.471077</td>\n",
       "      <td>-6.846404</td>\n",
       "      <td>1</td>\n",
       "    </tr>\n",
       "    <tr>\n",
       "      <th>1</th>\n",
       "      <td>-10.637725</td>\n",
       "      <td>1.583749</td>\n",
       "      <td>-6.830977</td>\n",
       "      <td>1</td>\n",
       "    </tr>\n",
       "    <tr>\n",
       "      <th>2</th>\n",
       "      <td>-13.516185</td>\n",
       "      <td>-1.253541</td>\n",
       "      <td>-6.818698</td>\n",
       "      <td>1</td>\n",
       "    </tr>\n",
       "    <tr>\n",
       "      <th>3</th>\n",
       "      <td>-9.155083</td>\n",
       "      <td>8.833595</td>\n",
       "      <td>15.290902</td>\n",
       "      <td>1</td>\n",
       "    </tr>\n",
       "    <tr>\n",
       "      <th>4</th>\n",
       "      <td>-6.764469</td>\n",
       "      <td>4.611460</td>\n",
       "      <td>15.637120</td>\n",
       "      <td>1</td>\n",
       "    </tr>\n",
       "  </tbody>\n",
       "</table>\n",
       "</div>"
      ],
      "text/plain": [
       "   principal component 1  principal component 2  principal component 3  class\n",
       "0             -10.047372               1.471077              -6.846404      1\n",
       "1             -10.637725               1.583749              -6.830977      1\n",
       "2             -13.516185              -1.253541              -6.818698      1\n",
       "3              -9.155083               8.833595              15.290902      1\n",
       "4              -6.764469               4.611460              15.637120      1"
      ]
     },
     "execution_count": 140,
     "metadata": {},
     "output_type": "execute_result"
    }
   ],
   "source": [
    "#2.2 Apply PCA (k=3)\n",
    "\n",
    "pca3 = PCA(n_components=3) #Calculating PCA with k=3\n",
    "principalComponents = pca3.fit_transform(X_scaled) #inputting x_scaled values\n",
    "\n",
    "principalDf = pd.DataFrame(data = principalComponents, \n",
    "                           columns = ['principal component 1', 'principal component 2','principal component 3'])#creating new df \n",
    "                                                                                                          #with required columns\n",
    "\n",
    "finalspeech = pd.concat([principalDf, speech[['class']]], axis = 1)#Concatenating \n",
    "finalspeech.head()#display first 5 rows"
   ]
  },
  {
   "cell_type": "code",
   "execution_count": 141,
   "id": "6024d089",
   "metadata": {},
   "outputs": [],
   "source": [
    "X_pca = finalspeech.drop('class',axis=1) #considering x_pca values\n",
    "y_pca = finalspeech['class'] #considering y_pca values"
   ]
  },
  {
   "cell_type": "code",
   "execution_count": 142,
   "id": "aaffd03b",
   "metadata": {},
   "outputs": [],
   "source": [
    "X_train, X_test, y_train, y_test = train_test_split(X_pca, y_pca, test_size = 0.2, random_state = 0) #using train_test_split\n",
    "                                                                                                     #for spliting the data"
   ]
  },
  {
   "cell_type": "code",
   "execution_count": 143,
   "id": "321481d9",
   "metadata": {},
   "outputs": [],
   "source": [
    "# 2.3 Use SVM to report performance\n",
    "\n",
    "from sklearn.svm import SVC # importing SVC \n",
    "from sklearn.metrics import accuracy_score,classification_report,confusion_matrix #importing necessary commands\n",
    "classifier = SVC() # creating the model\n",
    "classifier.fit(X_train, y_train) # feeding model with training dataset\n",
    "y_pred = classifier.predict(X_test) # predicting the dependent variable in the test dataset"
   ]
  },
  {
   "cell_type": "code",
   "execution_count": 144,
   "id": "1fa7bad7",
   "metadata": {},
   "outputs": [
    {
     "name": "stdout",
     "output_type": "stream",
     "text": [
      "              precision    recall  f1-score   support\n",
      "\n",
      "           0       0.67      0.42      0.52        38\n",
      "           1       0.83      0.93      0.88       114\n",
      "\n",
      "    accuracy                           0.80       152\n",
      "   macro avg       0.75      0.68      0.70       152\n",
      "weighted avg       0.79      0.80      0.79       152\n",
      "\n",
      "[[ 16  22]\n",
      " [  8 106]]\n",
      "accuracy is 0.8026315789473685\n"
     ]
    }
   ],
   "source": [
    "print(classification_report(y_test, y_pred)) # printing the classification report\n",
    "print(confusion_matrix(y_test, y_pred)) # printing the confusion matrix\n",
    "# Accuracy score\n",
    "from sklearn.metrics import accuracy_score # importing the accuracy_score\n",
    "print('accuracy is',accuracy_score(y_pred,y_test))#display accuracy score"
   ]
  },
  {
   "cell_type": "code",
   "execution_count": 145,
   "id": "ce7eed5d",
   "metadata": {},
   "outputs": [
    {
     "data": {
      "text/html": [
       "<div>\n",
       "<style scoped>\n",
       "    .dataframe tbody tr th:only-of-type {\n",
       "        vertical-align: middle;\n",
       "    }\n",
       "\n",
       "    .dataframe tbody tr th {\n",
       "        vertical-align: top;\n",
       "    }\n",
       "\n",
       "    .dataframe thead th {\n",
       "        text-align: right;\n",
       "    }\n",
       "</style>\n",
       "<table border=\"1\" class=\"dataframe\">\n",
       "  <thead>\n",
       "    <tr style=\"text-align: right;\">\n",
       "      <th></th>\n",
       "      <th>principal component 1</th>\n",
       "      <th>principal component 2</th>\n",
       "      <th>Species</th>\n",
       "    </tr>\n",
       "  </thead>\n",
       "  <tbody>\n",
       "    <tr>\n",
       "      <th>0</th>\n",
       "      <td>8.084953</td>\n",
       "      <td>0.328454</td>\n",
       "      <td>Iris-setosa</td>\n",
       "    </tr>\n",
       "    <tr>\n",
       "      <th>1</th>\n",
       "      <td>7.147163</td>\n",
       "      <td>-0.755473</td>\n",
       "      <td>Iris-setosa</td>\n",
       "    </tr>\n",
       "    <tr>\n",
       "      <th>2</th>\n",
       "      <td>7.511378</td>\n",
       "      <td>-0.238078</td>\n",
       "      <td>Iris-setosa</td>\n",
       "    </tr>\n",
       "    <tr>\n",
       "      <th>3</th>\n",
       "      <td>6.837676</td>\n",
       "      <td>-0.642885</td>\n",
       "      <td>Iris-setosa</td>\n",
       "    </tr>\n",
       "    <tr>\n",
       "      <th>4</th>\n",
       "      <td>8.157814</td>\n",
       "      <td>0.540639</td>\n",
       "      <td>Iris-setosa</td>\n",
       "    </tr>\n",
       "  </tbody>\n",
       "</table>\n",
       "</div>"
      ],
      "text/plain": [
       "   principal component 1  principal component 2      Species\n",
       "0               8.084953               0.328454  Iris-setosa\n",
       "1               7.147163              -0.755473  Iris-setosa\n",
       "2               7.511378              -0.238078  Iris-setosa\n",
       "3               6.837676              -0.642885  Iris-setosa\n",
       "4               8.157814               0.540639  Iris-setosa"
      ]
     },
     "execution_count": 145,
     "metadata": {},
     "output_type": "execute_result"
    }
   ],
   "source": [
    "#question 3\n",
    "#Apply Linear Discriminant Analysis (LDA) on Iris.csv dataset to reduce dimensionality of data to k=2.\n",
    "iris = pd.read_csv('Iris.csv') #reading the data using pandas\n",
    "X = iris.drop(columns=['Species','Id']) #considering x values\n",
    "y = iris['Species'] #considering y values\n",
    "from sklearn.discriminant_analysis import LinearDiscriminantAnalysis #importing LDA\n",
    "lda = LinearDiscriminantAnalysis(n_components=2) # considering dimensions as 2\n",
    "principalComponents = lda.fit_transform(X,y) #inputting x,y values\n",
    "principalDf = pd.DataFrame(data = principalComponents, columns = ['principal component 1', 'principal component 2']) #creating\n",
    "                                                                                              #new df with columns as required\n",
    "\n",
    "finaliris = pd.concat([principalDf, iris[['Species']]], axis = 1) #Concatenating \n",
    "finaliris.head() #displaying first 5 rows\n"
   ]
  },
  {
   "cell_type": "code",
   "execution_count": 92,
   "id": "7ecffbbb",
   "metadata": {},
   "outputs": [],
   "source": [
    "#question 4\n",
    "#Briefly identify the difference between PCA and LDA\n",
    "# Please find answer in word document"
   ]
  },
  {
   "cell_type": "code",
   "execution_count": null,
   "id": "148247cf",
   "metadata": {},
   "outputs": [],
   "source": []
  }
 ],
 "metadata": {
  "kernelspec": {
   "display_name": "Python 3 (ipykernel)",
   "language": "python",
   "name": "python3"
  },
  "language_info": {
   "codemirror_mode": {
    "name": "ipython",
    "version": 3
   },
   "file_extension": ".py",
   "mimetype": "text/x-python",
   "name": "python",
   "nbconvert_exporter": "python",
   "pygments_lexer": "ipython3",
   "version": "3.9.12"
  }
 },
 "nbformat": 4,
 "nbformat_minor": 5
}
